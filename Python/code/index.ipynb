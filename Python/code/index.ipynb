{
 "cells": [
  {
   "cell_type": "code",
   "execution_count": 1,
   "id": "d0f7abca-21b2-4617-9800-86e472fb254d",
   "metadata": {},
   "outputs": [
    {
     "name": "stdout",
     "output_type": "stream",
     "text": [
      "hello\n"
     ]
    }
   ],
   "source": [
    "print(\"hello\")"
   ]
  },
  {
   "cell_type": "code",
   "execution_count": 18,
   "id": "e089dbec-d85f-4c2e-b810-21959df9f2a7",
   "metadata": {},
   "outputs": [
    {
     "name": "stdout",
     "output_type": "stream",
     "text": [
      "PDF 'output_chinese.pdf' 已生成\n"
     ]
    }
   ],
   "source": [
    "from reportlab.lib.pagesizes import A4\n",
    "from reportlab.lib import colors\n",
    "from reportlab.lib.styles import getSampleStyleSheet, ParagraphStyle\n",
    "from reportlab.platypus import SimpleDocTemplate, Paragraph, Spacer\n",
    "from reportlab.pdfgen import canvas\n",
    "from reportlab.pdfbase.ttfonts import TTFont\n",
    "from reportlab.pdfbase import pdfmetrics\n",
    "from reportlab.lib.units import cm\n",
    "\n",
    "# PDF 文件名稱\n",
    "pdf_filename = \"output_chinese.pdf\"\n",
    "\n",
    "# 建立PDF文件\n",
    "doc = SimpleDocTemplate(pdf_filename, pagesize=A4)\n",
    "\n",
    "# 加载支持中文的字体（如思源黑体）\n",
    "font_path = \"fonts/Noto_Sans_TC/NotoSansTC-VariableFont_wght.ttf\"\n",
    "pdfmetrics.registerFont(TTFont('SourceHanSans', font_path))\n",
    "\n",
    "# 样式设置，使用加载的中文字体\n",
    "styles = getSampleStyleSheet()\n",
    "styles.add(ParagraphStyle(name='Chinese', fontName='SourceHanSans', fontSize=12))\n",
    "styleN = styles[\"Chinese\"]\n",
    "\n",
    "# 背景图片设置\n",
    "background_image = \"a.jpg\"\n",
    "page_width, page_height = A4\n",
    "\n",
    "# 背景绘制函数\n",
    "def draw_background(canvas, doc):\n",
    "    canvas.drawImage(background_image, 0, 0, width=page_width, height=page_height)\n",
    "\n",
    "# 添加内容函数\n",
    "def add_content(story):\n",
    "    # 标题\n",
    "    title_style = ParagraphStyle('Title', fontName='SourceHanSans', fontSize=14, textColor=colors.HexColor(\"#005B7D\"))\n",
    "    subtitle_style = ParagraphStyle('Subtitle', fontName='SourceHanSans', fontSize=12, textColor=colors.HexColor(\"#005B7D\"))\n",
    "\n",
    "    # 内文\n",
    "    content = [\n",
    "        Paragraph(\"關於本報告\", title_style),\n",
    "        Spacer(1, 12),\n",
    "        Paragraph(\"報告時間\", subtitle_style),\n",
    "        Paragraph(\"我們於每年度結束行前一年發行「永續報告書」，前一版報告書於2022年發行，下一版將於2024年發行。\", styleN),\n",
    "        Spacer(1, 12),\n",
    "        Paragraph(\"內部管理\", subtitle_style),\n",
    "        Paragraph(\"本年度由副董事長、總經理暨執行長為永續報告書發佈人，邀集合各單位最高主管或高階經理人，全球各主要運營據點由高階經理人參與座談，並整合各部門負責人的意見，以促進報告書中涉及的活動結果落實執行。\", styleN),\n",
    "        Spacer(1, 12),\n",
    "        Paragraph(\"外部查證\", subtitle_style),\n",
    "        Paragraph(\"本報告書經委由第三方驗證單位台灣檢驗科技國際品保驗證股份有限公司依據 AA1000AS:2018 / Type II / High Assurance 標準進行查證。\", styleN),\n",
    "        Spacer(1, 12),\n",
    "        Paragraph(\"聯絡方式\", subtitle_style),\n",
    "        Paragraph(\"如果您對於本報告書有任何問題、意見與指教，非常歡迎您經由下列管道傳達給我們知悉。\", styleN),\n",
    "        Paragraph(\"企業永續發展辦公室\", styleN),\n",
    "        Paragraph(\"Email：ESG@wistron.com\", styleN),\n",
    "        Paragraph(\"地址：11469 台北市內湖區行善路158號\", styleN),\n",
    "    ]\n",
    "\n",
    "    story.extend(content)\n",
    "\n",
    "# 生成PDF\n",
    "story = []\n",
    "\n",
    "# 添加内容\n",
    "add_content(story)\n",
    "\n",
    "# 添加背景\n",
    "doc.build(story, onFirstPage=draw_background, onLaterPages=draw_background)\n",
    "\n",
    "print(f\"PDF '{pdf_filename}' 已生成\")\n"
   ]
  }
 ],
 "metadata": {
  "kernelspec": {
   "display_name": "Python 3 (ipykernel)",
   "language": "python",
   "name": "python3"
  },
  "language_info": {
   "codemirror_mode": {
    "name": "ipython",
    "version": 3
   },
   "file_extension": ".py",
   "mimetype": "text/x-python",
   "name": "python",
   "nbconvert_exporter": "python",
   "pygments_lexer": "ipython3",
   "version": "3.10.13"
  }
 },
 "nbformat": 4,
 "nbformat_minor": 5
}
